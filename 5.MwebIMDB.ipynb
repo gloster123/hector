{
 "cells": [
  {
   "cell_type": "code",
   "execution_count": 2,
   "id": "a6c0093f",
   "metadata": {},
   "outputs": [],
   "source": [
    "import requests\n",
    "from bs4 import BeautifulSoup\n",
    "import pandas as pd"
   ]
  },
  {
   "cell_type": "code",
   "execution_count": 3,
   "id": "c4bb28a0",
   "metadata": {},
   "outputs": [],
   "source": [
    "url = 'https://www.imdb.com/chart/top/'"
   ]
  },
  {
   "cell_type": "code",
   "execution_count": 4,
   "id": "cea3358f",
   "metadata": {},
   "outputs": [],
   "source": [
    "HEADERS = {'User-Agent':'Mozilla/5.0 (iPad; CPU OS 12_2 like Mac OS X) Applewebkit/605.1.15 (KHTML , like Gecko) Mobile/15E148'}"
   ]
  },
  {
   "cell_type": "code",
   "execution_count": 5,
   "id": "e78f044d",
   "metadata": {},
   "outputs": [
    {
     "data": {
      "text/plain": [
       "<Response [200]>"
      ]
     },
     "execution_count": 5,
     "metadata": {},
     "output_type": "execute_result"
    }
   ],
   "source": [
    "page = requests.get(url, headers=HEADERS)\n",
    "page"
   ]
  },
  {
   "cell_type": "code",
   "execution_count": 6,
   "id": "fe790c4b",
   "metadata": {},
   "outputs": [],
   "source": [
    "soup = BeautifulSoup(page.content, 'html.parser')"
   ]
  },
  {
   "cell_type": "code",
   "execution_count": 7,
   "id": "c76259ad",
   "metadata": {},
   "outputs": [
    {
     "data": {
      "text/plain": [
       "[<h3 class=\"ipc-title__text\">IMDb Charts</h3>,\n",
       " <h3 class=\"ipc-title__text\">1. The Shawshank Redemption</h3>,\n",
       " <h3 class=\"ipc-title__text\">2. The Godfather</h3>,\n",
       " <h3 class=\"ipc-title__text\">3. The Dark Knight</h3>,\n",
       " <h3 class=\"ipc-title__text\">4. The Godfather: Part II</h3>,\n",
       " <h3 class=\"ipc-title__text\">5. 12 Angry Men</h3>,\n",
       " <h3 class=\"ipc-title__text\">6. The Lord of the Rings: The Return of the King</h3>,\n",
       " <h3 class=\"ipc-title__text\">7. Schindler's List</h3>,\n",
       " <h3 class=\"ipc-title__text\">8. Pulp Fiction</h3>,\n",
       " <h3 class=\"ipc-title__text\">9. The Lord of the Rings: The Fellowship of the Ring</h3>,\n",
       " <h3 class=\"ipc-title__text\">10. Il Buono, Il Brutto, Il Cattivo</h3>,\n",
       " <h3 class=\"ipc-title__text\">11. Forrest Gump</h3>,\n",
       " <h3 class=\"ipc-title__text\">12. The Lord of the Rings: The Two Towers</h3>,\n",
       " <h3 class=\"ipc-title__text\">13. Fight Club</h3>,\n",
       " <h3 class=\"ipc-title__text\">14. Inception</h3>,\n",
       " <h3 class=\"ipc-title__text\">15. Star Wars: Episode V - The Empire Strikes Back</h3>,\n",
       " <h3 class=\"ipc-title__text\">16. The Matrix</h3>,\n",
       " <h3 class=\"ipc-title__text\">17. GoodFellas</h3>,\n",
       " <h3 class=\"ipc-title__text\">18. One Flew Over the Cuckoo's Nest</h3>,\n",
       " <h3 class=\"ipc-title__text\">19. Interstellar</h3>,\n",
       " <h3 class=\"ipc-title__text\">20. Se7en</h3>,\n",
       " <h3 class=\"ipc-title__text\">21. It's a Wonderful Life</h3>,\n",
       " <h3 class=\"ipc-title__text\">22. Shichinin No Samurai</h3>,\n",
       " <h3 class=\"ipc-title__text\">23. The Silence of the Lambs</h3>,\n",
       " <h3 class=\"ipc-title__text\">24. Saving Private Ryan</h3>,\n",
       " <h3 class=\"ipc-title__text\">25. City of God</h3>,\n",
       " <h3 class=\"ipc-title__text\">Recently viewed</h3>]"
      ]
     },
     "execution_count": 7,
     "metadata": {},
     "output_type": "execute_result"
    }
   ],
   "source": [
    "scraped_movies = soup.find_all('h3',class_=\"ipc-title__text\")\n",
    "scraped_movies"
   ]
  },
  {
   "cell_type": "code",
   "execution_count": 8,
   "id": "b9f7528a",
   "metadata": {},
   "outputs": [
    {
     "data": {
      "text/plain": [
       "[<span class=\"ipc-rating-star--rating\">9.3</span>,\n",
       " <span class=\"ipc-rating-star--rating\">9.2</span>,\n",
       " <span class=\"ipc-rating-star--rating\">9.0</span>,\n",
       " <span class=\"ipc-rating-star--rating\">9.0</span>,\n",
       " <span class=\"ipc-rating-star--rating\">9.0</span>,\n",
       " <span class=\"ipc-rating-star--rating\">9.0</span>,\n",
       " <span class=\"ipc-rating-star--rating\">9.0</span>,\n",
       " <span class=\"ipc-rating-star--rating\">8.9</span>,\n",
       " <span class=\"ipc-rating-star--rating\">8.9</span>,\n",
       " <span class=\"ipc-rating-star--rating\">8.8</span>,\n",
       " <span class=\"ipc-rating-star--rating\">8.8</span>,\n",
       " <span class=\"ipc-rating-star--rating\">8.8</span>,\n",
       " <span class=\"ipc-rating-star--rating\">8.8</span>,\n",
       " <span class=\"ipc-rating-star--rating\">8.8</span>,\n",
       " <span class=\"ipc-rating-star--rating\">8.7</span>,\n",
       " <span class=\"ipc-rating-star--rating\">8.7</span>,\n",
       " <span class=\"ipc-rating-star--rating\">8.7</span>,\n",
       " <span class=\"ipc-rating-star--rating\">8.7</span>,\n",
       " <span class=\"ipc-rating-star--rating\">8.7</span>,\n",
       " <span class=\"ipc-rating-star--rating\">8.6</span>,\n",
       " <span class=\"ipc-rating-star--rating\">8.6</span>,\n",
       " <span class=\"ipc-rating-star--rating\">8.6</span>,\n",
       " <span class=\"ipc-rating-star--rating\">8.6</span>,\n",
       " <span class=\"ipc-rating-star--rating\">8.6</span>,\n",
       " <span class=\"ipc-rating-star--rating\">8.6</span>]"
      ]
     },
     "execution_count": 8,
     "metadata": {},
     "output_type": "execute_result"
    }
   ],
   "source": [
    "scraped_ratings = soup.find_all('span',class_=\"ipc-rating-star--rating\")\n",
    "scraped_ratings"
   ]
  },
  {
   "cell_type": "code",
   "execution_count": 9,
   "id": "75fba19b",
   "metadata": {},
   "outputs": [],
   "source": [
    "movies = []\n",
    "for movie in scraped_movies:\n",
    "    movie = movie.get_text().replace('\\n', \"\")\n",
    "    movie = movie.strip(\" \")\n",
    "    movies.append(movie)\n",
    "movies = movies[1:26]"
   ]
  },
  {
   "cell_type": "code",
   "execution_count": 10,
   "id": "45a37f83",
   "metadata": {},
   "outputs": [
    {
     "data": {
      "text/plain": [
       "['9.3',\n",
       " '9.2',\n",
       " '9.0',\n",
       " '9.0',\n",
       " '9.0',\n",
       " '9.0',\n",
       " '9.0',\n",
       " '8.9',\n",
       " '8.9',\n",
       " '8.8',\n",
       " '8.8',\n",
       " '8.8',\n",
       " '8.8',\n",
       " '8.8',\n",
       " '8.7',\n",
       " '8.7',\n",
       " '8.7',\n",
       " '8.7',\n",
       " '8.7',\n",
       " '8.6',\n",
       " '8.6',\n",
       " '8.6',\n",
       " '8.6',\n",
       " '8.6',\n",
       " '8.6']"
      ]
     },
     "execution_count": 10,
     "metadata": {},
     "output_type": "execute_result"
    }
   ],
   "source": [
    "ratings = []\n",
    "for rating in scraped_ratings:\n",
    "    rating = rating.get_text().replace('\\n', \"\")\n",
    "    rating = rating.strip(\" \")\n",
    "    ratings.append(rating)\n",
    "ratings  "
   ]
  },
  {
   "cell_type": "code",
   "execution_count": 11,
   "id": "cab5f83e",
   "metadata": {},
   "outputs": [
    {
     "data": {
      "text/html": [
       "<div>\n",
       "<style scoped>\n",
       "    .dataframe tbody tr th:only-of-type {\n",
       "        vertical-align: middle;\n",
       "    }\n",
       "\n",
       "    .dataframe tbody tr th {\n",
       "        vertical-align: top;\n",
       "    }\n",
       "\n",
       "    .dataframe thead th {\n",
       "        text-align: right;\n",
       "    }\n",
       "</style>\n",
       "<table border=\"1\" class=\"dataframe\">\n",
       "  <thead>\n",
       "    <tr style=\"text-align: right;\">\n",
       "      <th></th>\n",
       "      <th>Movie Names</th>\n",
       "      <th>Ratings</th>\n",
       "    </tr>\n",
       "  </thead>\n",
       "  <tbody>\n",
       "    <tr>\n",
       "      <th>0</th>\n",
       "      <td>1. The Shawshank Redemption</td>\n",
       "      <td>9.3</td>\n",
       "    </tr>\n",
       "    <tr>\n",
       "      <th>1</th>\n",
       "      <td>2. The Godfather</td>\n",
       "      <td>9.2</td>\n",
       "    </tr>\n",
       "    <tr>\n",
       "      <th>2</th>\n",
       "      <td>3. The Dark Knight</td>\n",
       "      <td>9.0</td>\n",
       "    </tr>\n",
       "    <tr>\n",
       "      <th>3</th>\n",
       "      <td>4. The Godfather: Part II</td>\n",
       "      <td>9.0</td>\n",
       "    </tr>\n",
       "    <tr>\n",
       "      <th>4</th>\n",
       "      <td>5. 12 Angry Men</td>\n",
       "      <td>9.0</td>\n",
       "    </tr>\n",
       "    <tr>\n",
       "      <th>5</th>\n",
       "      <td>6. The Lord of the Rings: The Return of the King</td>\n",
       "      <td>9.0</td>\n",
       "    </tr>\n",
       "    <tr>\n",
       "      <th>6</th>\n",
       "      <td>7. Schindler's List</td>\n",
       "      <td>9.0</td>\n",
       "    </tr>\n",
       "    <tr>\n",
       "      <th>7</th>\n",
       "      <td>8. Pulp Fiction</td>\n",
       "      <td>8.9</td>\n",
       "    </tr>\n",
       "    <tr>\n",
       "      <th>8</th>\n",
       "      <td>9. The Lord of the Rings: The Fellowship of th...</td>\n",
       "      <td>8.9</td>\n",
       "    </tr>\n",
       "    <tr>\n",
       "      <th>9</th>\n",
       "      <td>10. Il Buono, Il Brutto, Il Cattivo</td>\n",
       "      <td>8.8</td>\n",
       "    </tr>\n",
       "    <tr>\n",
       "      <th>10</th>\n",
       "      <td>11. Forrest Gump</td>\n",
       "      <td>8.8</td>\n",
       "    </tr>\n",
       "    <tr>\n",
       "      <th>11</th>\n",
       "      <td>12. The Lord of the Rings: The Two Towers</td>\n",
       "      <td>8.8</td>\n",
       "    </tr>\n",
       "    <tr>\n",
       "      <th>12</th>\n",
       "      <td>13. Fight Club</td>\n",
       "      <td>8.8</td>\n",
       "    </tr>\n",
       "    <tr>\n",
       "      <th>13</th>\n",
       "      <td>14. Inception</td>\n",
       "      <td>8.8</td>\n",
       "    </tr>\n",
       "    <tr>\n",
       "      <th>14</th>\n",
       "      <td>15. Star Wars: Episode V - The Empire Strikes ...</td>\n",
       "      <td>8.7</td>\n",
       "    </tr>\n",
       "    <tr>\n",
       "      <th>15</th>\n",
       "      <td>16. The Matrix</td>\n",
       "      <td>8.7</td>\n",
       "    </tr>\n",
       "    <tr>\n",
       "      <th>16</th>\n",
       "      <td>17. GoodFellas</td>\n",
       "      <td>8.7</td>\n",
       "    </tr>\n",
       "    <tr>\n",
       "      <th>17</th>\n",
       "      <td>18. One Flew Over the Cuckoo's Nest</td>\n",
       "      <td>8.7</td>\n",
       "    </tr>\n",
       "    <tr>\n",
       "      <th>18</th>\n",
       "      <td>19. Interstellar</td>\n",
       "      <td>8.7</td>\n",
       "    </tr>\n",
       "    <tr>\n",
       "      <th>19</th>\n",
       "      <td>20. Se7en</td>\n",
       "      <td>8.6</td>\n",
       "    </tr>\n",
       "    <tr>\n",
       "      <th>20</th>\n",
       "      <td>21. It's a Wonderful Life</td>\n",
       "      <td>8.6</td>\n",
       "    </tr>\n",
       "    <tr>\n",
       "      <th>21</th>\n",
       "      <td>22. Shichinin No Samurai</td>\n",
       "      <td>8.6</td>\n",
       "    </tr>\n",
       "    <tr>\n",
       "      <th>22</th>\n",
       "      <td>23. The Silence of the Lambs</td>\n",
       "      <td>8.6</td>\n",
       "    </tr>\n",
       "    <tr>\n",
       "      <th>23</th>\n",
       "      <td>24. Saving Private Ryan</td>\n",
       "      <td>8.6</td>\n",
       "    </tr>\n",
       "    <tr>\n",
       "      <th>24</th>\n",
       "      <td>25. City of God</td>\n",
       "      <td>8.6</td>\n",
       "    </tr>\n",
       "  </tbody>\n",
       "</table>\n",
       "</div>"
      ],
      "text/plain": [
       "                                          Movie Names Ratings\n",
       "0                         1. The Shawshank Redemption     9.3\n",
       "1                                    2. The Godfather     9.2\n",
       "2                                  3. The Dark Knight     9.0\n",
       "3                           4. The Godfather: Part II     9.0\n",
       "4                                     5. 12 Angry Men     9.0\n",
       "5    6. The Lord of the Rings: The Return of the King     9.0\n",
       "6                                 7. Schindler's List     9.0\n",
       "7                                     8. Pulp Fiction     8.9\n",
       "8   9. The Lord of the Rings: The Fellowship of th...     8.9\n",
       "9                 10. Il Buono, Il Brutto, Il Cattivo     8.8\n",
       "10                                   11. Forrest Gump     8.8\n",
       "11          12. The Lord of the Rings: The Two Towers     8.8\n",
       "12                                     13. Fight Club     8.8\n",
       "13                                      14. Inception     8.8\n",
       "14  15. Star Wars: Episode V - The Empire Strikes ...     8.7\n",
       "15                                     16. The Matrix     8.7\n",
       "16                                     17. GoodFellas     8.7\n",
       "17                18. One Flew Over the Cuckoo's Nest     8.7\n",
       "18                                   19. Interstellar     8.7\n",
       "19                                          20. Se7en     8.6\n",
       "20                          21. It's a Wonderful Life     8.6\n",
       "21                           22. Shichinin No Samurai     8.6\n",
       "22                       23. The Silence of the Lambs     8.6\n",
       "23                            24. Saving Private Ryan     8.6\n",
       "24                                    25. City of God     8.6"
      ]
     },
     "execution_count": 11,
     "metadata": {},
     "output_type": "execute_result"
    }
   ],
   "source": [
    "data = pd.DataFrame()\n",
    "data['Movie Names'] = movies\n",
    "data['Ratings'] = ratings\n",
    "data"
   ]
  },
  {
   "cell_type": "code",
   "execution_count": 12,
   "id": "47299449",
   "metadata": {},
   "outputs": [],
   "source": [
    "data.to_csv('IMDB Top Movies.csv', index=False)\n"
   ]
  },
  {
   "cell_type": "code",
   "execution_count": null,
   "id": "053c2346",
   "metadata": {},
   "outputs": [],
   "source": []
  }
 ],
 "metadata": {
  "kernelspec": {
   "display_name": "Python 3 (ipykernel)",
   "language": "python",
   "name": "python3"
  },
  "language_info": {
   "codemirror_mode": {
    "name": "ipython",
    "version": 3
   },
   "file_extension": ".py",
   "mimetype": "text/x-python",
   "name": "python",
   "nbconvert_exporter": "python",
   "pygments_lexer": "ipython3",
   "version": "3.9.13"
  }
 },
 "nbformat": 4,
 "nbformat_minor": 5
}
