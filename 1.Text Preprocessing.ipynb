{
 "cells": [
  {
   "cell_type": "markdown",
   "id": "52d6268d",
   "metadata": {},
   "source": [
    "Problem Statement:\n",
    "Write a program for pre-processing of a text document such as stop word removal, stemming.\n",
    "1. Lowercase conversion\n",
    "2. Remove numbers\n",
    "3. Convert numbers to text. 2-two\n",
    "4. Remove punctuations\n",
    "5. Remove whitespaces\n",
    "6. Stopword removal\n",
    "7. Stemming/Lemmatization"
   ]
  },
  {
   "cell_type": "code",
   "execution_count": 1,
   "id": "0b50e0f4",
   "metadata": {},
   "outputs": [
    {
     "ename": "ModuleNotFoundError",
     "evalue": "No module named 'inflect'",
     "output_type": "error",
     "traceback": [
      "\u001b[1;31m---------------------------------------------------------------------------\u001b[0m",
      "\u001b[1;31mModuleNotFoundError\u001b[0m                       Traceback (most recent call last)",
      "Cell \u001b[1;32mIn[1], line 3\u001b[0m\n\u001b[0;32m      1\u001b[0m \u001b[38;5;28;01mimport\u001b[39;00m \u001b[38;5;21;01mnltk\u001b[39;00m\n\u001b[0;32m      2\u001b[0m \u001b[38;5;28;01mimport\u001b[39;00m \u001b[38;5;21;01mre\u001b[39;00m\n\u001b[1;32m----> 3\u001b[0m \u001b[38;5;28;01mimport\u001b[39;00m \u001b[38;5;21;01minflect\u001b[39;00m\n\u001b[0;32m      4\u001b[0m \u001b[38;5;28;01mimport\u001b[39;00m \u001b[38;5;21;01mstring\u001b[39;00m\n",
      "\u001b[1;31mModuleNotFoundError\u001b[0m: No module named 'inflect'"
     ]
    }
   ],
   "source": [
    "import nltk\n",
    "import re\n",
    "import inflect\n",
    "import string"
   ]
  },
  {
   "cell_type": "code",
   "execution_count": 2,
   "id": "9eef6449",
   "metadata": {},
   "outputs": [],
   "source": [
    "text=\"Information Retrieval (IR) can be defined as a software program that deals with the 4 process as organization, storage, retrieval, and evaluation of information from document repositories, particularly textual information. Information Retrieval is the activity of obtaining material that can usually be documented on an unstructured nature i.e. usually text which satisfies an information need from within large collections which is stored on computers. For example, Information Retrieval can be when a user enters a query into the system. \""
   ]
  },
  {
   "cell_type": "code",
   "execution_count": 3,
   "id": "ce2a3c0f",
   "metadata": {},
   "outputs": [
    {
     "data": {
      "text/plain": [
       "'Information Retrieval (IR) can be defined as a software program that deals with the 4 process as organization, storage, retrieval, and evaluation of information from document repositories, particularly textual information. Information Retrieval is the activity of obtaining material that can usually be documented on an unstructured nature i.e. usually text which satisfies an information need from within large collections which is stored on computers. For example, Information Retrieval can be when a user enters a query into the system. '"
      ]
     },
     "execution_count": 3,
     "metadata": {},
     "output_type": "execute_result"
    }
   ],
   "source": [
    "text"
   ]
  },
  {
   "cell_type": "code",
   "execution_count": 4,
   "id": "a943b007",
   "metadata": {},
   "outputs": [
    {
     "name": "stderr",
     "output_type": "stream",
     "text": [
      "[nltk_data] Downloading package punkt to\n",
      "[nltk_data]     C:\\Users\\Priyanka\\AppData\\Roaming\\nltk_data...\n",
      "[nltk_data]   Package punkt is already up-to-date!\n"
     ]
    },
    {
     "data": {
      "text/plain": [
       "True"
      ]
     },
     "execution_count": 4,
     "metadata": {},
     "output_type": "execute_result"
    }
   ],
   "source": [
    "nltk.download('punkt')"
   ]
  },
  {
   "cell_type": "markdown",
   "id": "6e9895dd",
   "metadata": {},
   "source": [
    "## Tokenization"
   ]
  },
  {
   "cell_type": "code",
   "execution_count": 5,
   "id": "967fdf28",
   "metadata": {},
   "outputs": [],
   "source": [
    "word_token=nltk.word_tokenize(text)"
   ]
  },
  {
   "cell_type": "code",
   "execution_count": 6,
   "id": "ae5fb5cb",
   "metadata": {},
   "outputs": [
    {
     "data": {
      "text/plain": [
       "['Information',\n",
       " 'Retrieval',\n",
       " '(',\n",
       " 'IR',\n",
       " ')',\n",
       " 'can',\n",
       " 'be',\n",
       " 'defined',\n",
       " 'as',\n",
       " 'a',\n",
       " 'software',\n",
       " 'program',\n",
       " 'that',\n",
       " 'deals',\n",
       " 'with',\n",
       " 'the',\n",
       " '4',\n",
       " 'process',\n",
       " 'as',\n",
       " 'organization',\n",
       " ',',\n",
       " 'storage',\n",
       " ',',\n",
       " 'retrieval',\n",
       " ',',\n",
       " 'and',\n",
       " 'evaluation',\n",
       " 'of',\n",
       " 'information',\n",
       " 'from',\n",
       " 'document',\n",
       " 'repositories',\n",
       " ',',\n",
       " 'particularly',\n",
       " 'textual',\n",
       " 'information',\n",
       " '.',\n",
       " 'Information',\n",
       " 'Retrieval',\n",
       " 'is',\n",
       " 'the',\n",
       " 'activity',\n",
       " 'of',\n",
       " 'obtaining',\n",
       " 'material',\n",
       " 'that',\n",
       " 'can',\n",
       " 'usually',\n",
       " 'be',\n",
       " 'documented',\n",
       " 'on',\n",
       " 'an',\n",
       " 'unstructured',\n",
       " 'nature',\n",
       " 'i.e',\n",
       " '.',\n",
       " 'usually',\n",
       " 'text',\n",
       " 'which',\n",
       " 'satisfies',\n",
       " 'an',\n",
       " 'information',\n",
       " 'need',\n",
       " 'from',\n",
       " 'within',\n",
       " 'large',\n",
       " 'collections',\n",
       " 'which',\n",
       " 'is',\n",
       " 'stored',\n",
       " 'on',\n",
       " 'computers',\n",
       " '.',\n",
       " 'For',\n",
       " 'example',\n",
       " ',',\n",
       " 'Information',\n",
       " 'Retrieval',\n",
       " 'can',\n",
       " 'be',\n",
       " 'when',\n",
       " 'a',\n",
       " 'user',\n",
       " 'enters',\n",
       " 'a',\n",
       " 'query',\n",
       " 'into',\n",
       " 'the',\n",
       " 'system',\n",
       " '.']"
      ]
     },
     "execution_count": 6,
     "metadata": {},
     "output_type": "execute_result"
    }
   ],
   "source": [
    "word_token"
   ]
  },
  {
   "cell_type": "code",
   "execution_count": 7,
   "id": "568d9d71",
   "metadata": {},
   "outputs": [],
   "source": [
    "sent_token=nltk.sent_tokenize(text)"
   ]
  },
  {
   "cell_type": "code",
   "execution_count": 8,
   "id": "a765e263",
   "metadata": {},
   "outputs": [
    {
     "data": {
      "text/plain": [
       "['Information Retrieval (IR) can be defined as a software program that deals with the 4 process as organization, storage, retrieval, and evaluation of information from document repositories, particularly textual information.',\n",
       " 'Information Retrieval is the activity of obtaining material that can usually be documented on an unstructured nature i.e.',\n",
       " 'usually text which satisfies an information need from within large collections which is stored on computers.',\n",
       " 'For example, Information Retrieval can be when a user enters a query into the system.']"
      ]
     },
     "execution_count": 8,
     "metadata": {},
     "output_type": "execute_result"
    }
   ],
   "source": [
    "sent_token"
   ]
  },
  {
   "cell_type": "code",
   "execution_count": 9,
   "id": "fea6928e",
   "metadata": {},
   "outputs": [
    {
     "name": "stderr",
     "output_type": "stream",
     "text": [
      "[nltk_data] Downloading package stopwords to\n",
      "[nltk_data]     C:\\Users\\Priyanka\\AppData\\Roaming\\nltk_data...\n",
      "[nltk_data]   Package stopwords is already up-to-date!\n"
     ]
    }
   ],
   "source": [
    "import nltk\n",
    "nltk.download('stopwords')\n",
    "from nltk.corpus import stopwords\n",
    "stopword=stopwords.words(\"english\")"
   ]
  },
  {
   "cell_type": "code",
   "execution_count": 10,
   "id": "64218354",
   "metadata": {},
   "outputs": [
    {
     "data": {
      "text/plain": [
       "['i',\n",
       " 'me',\n",
       " 'my',\n",
       " 'myself',\n",
       " 'we',\n",
       " 'our',\n",
       " 'ours',\n",
       " 'ourselves',\n",
       " 'you',\n",
       " \"you're\",\n",
       " \"you've\",\n",
       " \"you'll\",\n",
       " \"you'd\",\n",
       " 'your',\n",
       " 'yours',\n",
       " 'yourself',\n",
       " 'yourselves',\n",
       " 'he',\n",
       " 'him',\n",
       " 'his',\n",
       " 'himself',\n",
       " 'she',\n",
       " \"she's\",\n",
       " 'her',\n",
       " 'hers',\n",
       " 'herself',\n",
       " 'it',\n",
       " \"it's\",\n",
       " 'its',\n",
       " 'itself',\n",
       " 'they',\n",
       " 'them',\n",
       " 'their',\n",
       " 'theirs',\n",
       " 'themselves',\n",
       " 'what',\n",
       " 'which',\n",
       " 'who',\n",
       " 'whom',\n",
       " 'this',\n",
       " 'that',\n",
       " \"that'll\",\n",
       " 'these',\n",
       " 'those',\n",
       " 'am',\n",
       " 'is',\n",
       " 'are',\n",
       " 'was',\n",
       " 'were',\n",
       " 'be',\n",
       " 'been',\n",
       " 'being',\n",
       " 'have',\n",
       " 'has',\n",
       " 'had',\n",
       " 'having',\n",
       " 'do',\n",
       " 'does',\n",
       " 'did',\n",
       " 'doing',\n",
       " 'a',\n",
       " 'an',\n",
       " 'the',\n",
       " 'and',\n",
       " 'but',\n",
       " 'if',\n",
       " 'or',\n",
       " 'because',\n",
       " 'as',\n",
       " 'until',\n",
       " 'while',\n",
       " 'of',\n",
       " 'at',\n",
       " 'by',\n",
       " 'for',\n",
       " 'with',\n",
       " 'about',\n",
       " 'against',\n",
       " 'between',\n",
       " 'into',\n",
       " 'through',\n",
       " 'during',\n",
       " 'before',\n",
       " 'after',\n",
       " 'above',\n",
       " 'below',\n",
       " 'to',\n",
       " 'from',\n",
       " 'up',\n",
       " 'down',\n",
       " 'in',\n",
       " 'out',\n",
       " 'on',\n",
       " 'off',\n",
       " 'over',\n",
       " 'under',\n",
       " 'again',\n",
       " 'further',\n",
       " 'then',\n",
       " 'once',\n",
       " 'here',\n",
       " 'there',\n",
       " 'when',\n",
       " 'where',\n",
       " 'why',\n",
       " 'how',\n",
       " 'all',\n",
       " 'any',\n",
       " 'both',\n",
       " 'each',\n",
       " 'few',\n",
       " 'more',\n",
       " 'most',\n",
       " 'other',\n",
       " 'some',\n",
       " 'such',\n",
       " 'no',\n",
       " 'nor',\n",
       " 'not',\n",
       " 'only',\n",
       " 'own',\n",
       " 'same',\n",
       " 'so',\n",
       " 'than',\n",
       " 'too',\n",
       " 'very',\n",
       " 's',\n",
       " 't',\n",
       " 'can',\n",
       " 'will',\n",
       " 'just',\n",
       " 'don',\n",
       " \"don't\",\n",
       " 'should',\n",
       " \"should've\",\n",
       " 'now',\n",
       " 'd',\n",
       " 'll',\n",
       " 'm',\n",
       " 'o',\n",
       " 're',\n",
       " 've',\n",
       " 'y',\n",
       " 'ain',\n",
       " 'aren',\n",
       " \"aren't\",\n",
       " 'couldn',\n",
       " \"couldn't\",\n",
       " 'didn',\n",
       " \"didn't\",\n",
       " 'doesn',\n",
       " \"doesn't\",\n",
       " 'hadn',\n",
       " \"hadn't\",\n",
       " 'hasn',\n",
       " \"hasn't\",\n",
       " 'haven',\n",
       " \"haven't\",\n",
       " 'isn',\n",
       " \"isn't\",\n",
       " 'ma',\n",
       " 'mightn',\n",
       " \"mightn't\",\n",
       " 'mustn',\n",
       " \"mustn't\",\n",
       " 'needn',\n",
       " \"needn't\",\n",
       " 'shan',\n",
       " \"shan't\",\n",
       " 'shouldn',\n",
       " \"shouldn't\",\n",
       " 'wasn',\n",
       " \"wasn't\",\n",
       " 'weren',\n",
       " \"weren't\",\n",
       " 'won',\n",
       " \"won't\",\n",
       " 'wouldn',\n",
       " \"wouldn't\"]"
      ]
     },
     "execution_count": 10,
     "metadata": {},
     "output_type": "execute_result"
    }
   ],
   "source": [
    "stopword"
   ]
  },
  {
   "cell_type": "markdown",
   "id": "b555c86b",
   "metadata": {},
   "source": [
    "## Stopword Removal"
   ]
  },
  {
   "cell_type": "code",
   "execution_count": 11,
   "id": "03d300b9",
   "metadata": {},
   "outputs": [],
   "source": [
    "removing_stopwords=[word for word in word_token if word not in stopword]"
   ]
  },
  {
   "cell_type": "code",
   "execution_count": 12,
   "id": "1456e8f3",
   "metadata": {},
   "outputs": [
    {
     "data": {
      "text/plain": [
       "['Information',\n",
       " 'Retrieval',\n",
       " '(',\n",
       " 'IR',\n",
       " ')',\n",
       " 'defined',\n",
       " 'software',\n",
       " 'program',\n",
       " 'deals',\n",
       " '4',\n",
       " 'process',\n",
       " 'organization',\n",
       " ',',\n",
       " 'storage',\n",
       " ',',\n",
       " 'retrieval',\n",
       " ',',\n",
       " 'evaluation',\n",
       " 'information',\n",
       " 'document',\n",
       " 'repositories',\n",
       " ',',\n",
       " 'particularly',\n",
       " 'textual',\n",
       " 'information',\n",
       " '.',\n",
       " 'Information',\n",
       " 'Retrieval',\n",
       " 'activity',\n",
       " 'obtaining',\n",
       " 'material',\n",
       " 'usually',\n",
       " 'documented',\n",
       " 'unstructured',\n",
       " 'nature',\n",
       " 'i.e',\n",
       " '.',\n",
       " 'usually',\n",
       " 'text',\n",
       " 'satisfies',\n",
       " 'information',\n",
       " 'need',\n",
       " 'within',\n",
       " 'large',\n",
       " 'collections',\n",
       " 'stored',\n",
       " 'computers',\n",
       " '.',\n",
       " 'For',\n",
       " 'example',\n",
       " ',',\n",
       " 'Information',\n",
       " 'Retrieval',\n",
       " 'user',\n",
       " 'enters',\n",
       " 'query',\n",
       " 'system',\n",
       " '.']"
      ]
     },
     "execution_count": 12,
     "metadata": {},
     "output_type": "execute_result"
    }
   ],
   "source": [
    "removing_stopwords"
   ]
  },
  {
   "cell_type": "markdown",
   "id": "d0304874",
   "metadata": {},
   "source": [
    "## Stemming And Lemmatization"
   ]
  },
  {
   "cell_type": "code",
   "execution_count": 13,
   "id": "2edf30d6",
   "metadata": {},
   "outputs": [],
   "source": [
    "from nltk.stem import SnowballStemmer"
   ]
  },
  {
   "cell_type": "code",
   "execution_count": 14,
   "id": "c9195109",
   "metadata": {},
   "outputs": [
    {
     "name": "stdout",
     "output_type": "stream",
     "text": [
      "Stemmed words:  ['inform', 'retriev', '(', 'ir', ')', 'defin', 'softwar', 'program', 'deal', '4', 'process', 'organ', ',', 'storag', ',', 'retriev', ',', 'evalu', 'inform', 'document', 'repositori', ',', 'particular', 'textual', 'inform', '.', 'inform', 'retriev', 'activ', 'obtain', 'materi', 'usual', 'document', 'unstructur', 'natur', 'i.e', '.', 'usual', 'text', 'satisfi', 'inform', 'need', 'within', 'larg', 'collect', 'store', 'comput', '.', 'for', 'exampl', ',', 'inform', 'retriev', 'user', 'enter', 'queri', 'system', '.']\n"
     ]
    }
   ],
   "source": [
    "snowball_stemmer=SnowballStemmer('english')\n",
    "stemmed_word=[snowball_stemmer.stem(word) for word in removing_stopwords]\n",
    "print(\"Stemmed words: \", stemmed_word)\n"
   ]
  },
  {
   "cell_type": "code",
   "execution_count": 15,
   "id": "a45edaf7",
   "metadata": {},
   "outputs": [],
   "source": [
    "from nltk.stem import WordNetLemmatizer\n",
    "\n",
    "lemmatizer = WordNetLemmatizer()"
   ]
  },
  {
   "cell_type": "code",
   "execution_count": 16,
   "id": "58caba76",
   "metadata": {},
   "outputs": [
    {
     "name": "stdout",
     "output_type": "stream",
     "text": [
      "Lemmatized words:  ['Information', 'Retrieval', '(', 'IR', ')', 'defined', 'software', 'program', 'deal', '4', 'process', 'organization', ',', 'storage', ',', 'retrieval', ',', 'evaluation', 'information', 'document', 'repository', ',', 'particularly', 'textual', 'information', '.', 'Information', 'Retrieval', 'activity', 'obtaining', 'material', 'usually', 'documented', 'unstructured', 'nature', 'i.e', '.', 'usually', 'text', 'satisfies', 'information', 'need', 'within', 'large', 'collection', 'stored', 'computer', '.', 'For', 'example', ',', 'Information', 'Retrieval', 'user', 'enters', 'query', 'system', '.']\n"
     ]
    }
   ],
   "source": [
    "lemmatized_words = [lemmatizer.lemmatize(word) for word in removing_stopwords]\n",
    "\n",
    "print(\"Lemmatized words: \", lemmatized_words)\n"
   ]
  },
  {
   "cell_type": "markdown",
   "id": "60f15850",
   "metadata": {},
   "source": [
    "## Lowercase conversion"
   ]
  },
  {
   "cell_type": "code",
   "execution_count": 17,
   "id": "848c9f29",
   "metadata": {},
   "outputs": [],
   "source": [
    "lower_case = text.lower()"
   ]
  },
  {
   "cell_type": "code",
   "execution_count": 18,
   "id": "f5beca80",
   "metadata": {},
   "outputs": [
    {
     "data": {
      "text/plain": [
       "'information retrieval (ir) can be defined as a software program that deals with the 4 process as organization, storage, retrieval, and evaluation of information from document repositories, particularly textual information. information retrieval is the activity of obtaining material that can usually be documented on an unstructured nature i.e. usually text which satisfies an information need from within large collections which is stored on computers. for example, information retrieval can be when a user enters a query into the system. '"
      ]
     },
     "execution_count": 18,
     "metadata": {},
     "output_type": "execute_result"
    }
   ],
   "source": [
    "lower_case"
   ]
  },
  {
   "cell_type": "markdown",
   "id": "02927c38",
   "metadata": {},
   "source": [
    "## Remove Numbers"
   ]
  },
  {
   "cell_type": "code",
   "execution_count": 19,
   "id": "982742a9",
   "metadata": {},
   "outputs": [
    {
     "name": "stdout",
     "output_type": "stream",
     "text": [
      "Initial string :  Information Retrieval (IR) can be defined as a software program that deals with the 4 process as organization, storage, retrieval, and evaluation of information from document repositories, particularly textual information. Information Retrieval is the activity of obtaining material that can usually be documented on an unstructured nature i.e. usually text which satisfies an information need from within large collections which is stored on computers. For example, Information Retrieval can be when a user enters a query into the system. \n",
      "\n",
      "\n",
      "Final string :  Information Retrieval (IR) can be defined as a software program that deals with the  process as organization, storage, retrieval, and evaluation of information from document repositories, particularly textual information. Information Retrieval is the activity of obtaining material that can usually be documented on an unstructured nature i.e. usually text which satisfies an information need from within large collections which is stored on computers. For example, Information Retrieval can be when a user enters a query into the system. \n"
     ]
    }
   ],
   "source": [
    "import re\n",
    "ini_string = text\n",
    "\n",
    "print(\"Initial string : \", ini_string)\n",
    "\n",
    "final_string = re.sub(\"[0-9]\",\"\",text)\n",
    "print(\"\\n\")\n",
    "\n",
    "print(\"Final string : \", final_string)\n"
   ]
  },
  {
   "cell_type": "markdown",
   "id": "febd3160",
   "metadata": {},
   "source": [
    "## Numbers to words"
   ]
  },
  {
   "cell_type": "code",
   "execution_count": 20,
   "id": "dcc5df00",
   "metadata": {},
   "outputs": [],
   "source": [
    "import inflect\n",
    "def convert_numbers_to_words(match):\n",
    "    num = int(match.group())\n",
    "    p = inflect.engine()\n",
    "    return p.number_to_words(num)\n",
    "\n",
    "def convert_numbers(sentence):\n",
    "    result = re.sub(r'\\d+', convert_numbers_to_words, sentence)\n",
    "    return result\n",
    "\n",
    "sentence_with_numbers = text\n",
    "converted_sentence = convert_numbers(sentence_with_numbers)"
   ]
  },
  {
   "cell_type": "code",
   "execution_count": 21,
   "id": "c7a0491d",
   "metadata": {},
   "outputs": [
    {
     "data": {
      "text/plain": [
       "'Information Retrieval (IR) can be defined as a software program that deals with the four process as organization, storage, retrieval, and evaluation of information from document repositories, particularly textual information. Information Retrieval is the activity of obtaining material that can usually be documented on an unstructured nature i.e. usually text which satisfies an information need from within large collections which is stored on computers. For example, Information Retrieval can be when a user enters a query into the system. '"
      ]
     },
     "execution_count": 21,
     "metadata": {},
     "output_type": "execute_result"
    }
   ],
   "source": [
    "converted_sentence"
   ]
  },
  {
   "cell_type": "markdown",
   "id": "9e323041",
   "metadata": {},
   "source": [
    "## Removing Punctuation"
   ]
  },
  {
   "cell_type": "code",
   "execution_count": 22,
   "id": "646e936e",
   "metadata": {},
   "outputs": [],
   "source": [
    "def remove_punctuation(text):\n",
    "    translator = str.maketrans('', '', string.punctuation)\n",
    "    return text.translate(translator)\n",
    "\n",
    "input_str = converted_sentence\n",
    "#remove_punctuation(input_str)\n"
   ]
  },
  {
   "cell_type": "code",
   "execution_count": 23,
   "id": "f76c64a4",
   "metadata": {
    "scrolled": true
   },
   "outputs": [
    {
     "data": {
      "text/plain": [
       "'Information Retrieval IR can be defined as a software program that deals with the four process as organization storage retrieval and evaluation of information from document repositories particularly textual information Information Retrieval is the activity of obtaining material that can usually be documented on an unstructured nature ie usually text which satisfies an information need from within large collections which is stored on computers For example Information Retrieval can be when a user enters a query into the system '"
      ]
     },
     "execution_count": 23,
     "metadata": {},
     "output_type": "execute_result"
    }
   ],
   "source": [
    "remove_punctuation(input_str)"
   ]
  },
  {
   "cell_type": "markdown",
   "id": "6f2938b3",
   "metadata": {},
   "source": [
    "## Removing Whitespace"
   ]
  },
  {
   "cell_type": "code",
   "execution_count": 24,
   "id": "312d9311",
   "metadata": {},
   "outputs": [
    {
     "data": {
      "text/plain": [
       "\"Hello, I am Ms.Priyanka Kashid. I'm 20 years old.\""
      ]
     },
     "execution_count": 24,
     "metadata": {},
     "output_type": "execute_result"
    }
   ],
   "source": [
    "def remove_whitespace(text):\n",
    "    return \" \".join(text.split())\n",
    "\n",
    "input_str = \"Hello, I am      Ms.xy       z. I'm 20 years old.\"\n",
    "remove_whitespace(input_str)\n"
   ]
  },
  {
   "cell_type": "code",
   "execution_count": null,
   "id": "456413d9",
   "metadata": {},
   "outputs": [],
   "source": []
  }
 ],
 "metadata": {
  "kernelspec": {
   "display_name": "Python 3 (ipykernel)",
   "language": "python",
   "name": "python3"
  },
  "language_info": {
   "codemirror_mode": {
    "name": "ipython",
    "version": 3
   },
   "file_extension": ".py",
   "mimetype": "text/x-python",
   "name": "python",
   "nbconvert_exporter": "python",
   "pygments_lexer": "ipython3",
   "version": "3.9.19"
  }
 },
 "nbformat": 4,
 "nbformat_minor": 5
}
